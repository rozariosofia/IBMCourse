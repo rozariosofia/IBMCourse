{
 "cells": [
  {
   "cell_type": "markdown",
   "id": "d3725912-8ed1-48cd-b1f5-337e580eb822",
   "metadata": {},
   "source": [
    "# Data Science and Tools Ecosystem"
   ]
  },
  {
   "cell_type": "markdown",
   "id": "6f0d89a1-488e-4ed0-ada0-c622579ae36c",
   "metadata": {},
   "source": [
    "## Author\n",
    "Berttilla rozario A"
   ]
  },
  {
   "cell_type": "markdown",
   "id": "df61d33a-08fc-4e93-bd9d-763300c22542",
   "metadata": {},
   "source": [
    "### Summary\n",
    "In this notebook, Data Science tools and Ecosystem are summarized"
   ]
  },
  {
   "cell_type": "markdown",
   "id": "8ebf98d2-d835-4f88-ab59-957fe8856c87",
   "metadata": {},
   "source": [
    "__Objectives__\n",
    "\n",
    "- Knowing the popular Data science languages and libraries\n",
    "- Open Source data science tools\n",
    "- Creating and executing a simple arithmatic expression"
   ]
  },
  {
   "cell_type": "markdown",
   "id": "df32015c-faf2-45af-b29b-1ef53ae19ffb",
   "metadata": {},
   "source": [
    "__Some of the popular languages that data scientists use are:__\n",
    "\n",
    "1. Python\n",
    "2. R\n",
    "3. SQL"
   ]
  },
  {
   "cell_type": "markdown",
   "id": "20494b9e-c686-4fea-9253-0d7c6fbd44a2",
   "metadata": {},
   "source": [
    "__Some of the commonly used libraries are__\n",
    "\n",
    "1. Scientific Computing\n",
    "2. Viualization\n",
    "3. High-level machine learning and deep learning\n",
    "4. Deep learning\n"
   ]
  },
  {
   "cell_type": "markdown",
   "id": "991876b4-9b78-4363-a5ac-c190cbc737fe",
   "metadata": {},
   "source": [
    "|Data Science Tools|\n",
    "|------------------|\n",
    "|GitHub|\n",
    "|Hadoop FS|\n",
    "|Apache Kafka|"
   ]
  },
  {
   "cell_type": "markdown",
   "id": "9dabf579-2c38-470a-8e8f-897b5391a31d",
   "metadata": {},
   "source": [
    "### Below are a few examples of evaluating arihmetic expressions in Python"
   ]
  },
  {
   "cell_type": "code",
   "execution_count": 5,
   "id": "2b7c918d-35c5-44ed-aab2-c3268a382374",
   "metadata": {
    "tags": []
   },
   "outputs": [
    {
     "data": {
      "text/plain": [
       "17"
      ]
     },
     "execution_count": 5,
     "metadata": {},
     "output_type": "execute_result"
    }
   ],
   "source": [
    "# This is a simple arithmatic expression to multiply then add integers\n",
    "(3*4)+5"
   ]
  },
  {
   "cell_type": "code",
   "execution_count": 8,
   "id": "09b3f34b-55a8-4ab4-a152-629ae0ebd279",
   "metadata": {
    "tags": []
   },
   "outputs": [
    {
     "name": "stdout",
     "output_type": "stream",
     "text": [
      "3.3333333333333335\n"
     ]
    }
   ],
   "source": [
    "# This is a simple code to convert minutes to hours\n",
    "minutes = 200\n",
    "hours = minutes/60\n",
    "print(hours)"
   ]
  },
  {
   "cell_type": "code",
   "execution_count": null,
   "id": "53993bce-352c-4476-a936-f87de5c5699a",
   "metadata": {},
   "outputs": [],
   "source": []
  }
 ],
 "metadata": {
  "kernelspec": {
   "display_name": "Python",
   "language": "python",
   "name": "conda-env-python-py"
  },
  "language_info": {
   "codemirror_mode": {
    "name": "ipython",
    "version": 3
   },
   "file_extension": ".py",
   "mimetype": "text/x-python",
   "name": "python",
   "nbconvert_exporter": "python",
   "pygments_lexer": "ipython3",
   "version": "3.7.12"
  }
 },
 "nbformat": 4,
 "nbformat_minor": 5
}
